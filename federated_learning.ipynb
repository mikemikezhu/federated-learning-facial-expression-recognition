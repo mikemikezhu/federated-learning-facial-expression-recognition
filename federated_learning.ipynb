{
  "nbformat": 4,
  "nbformat_minor": 0,
  "metadata": {
    "colab": {
      "name": "federated-learning.ipynb",
      "provenance": [],
      "collapsed_sections": [],
      "toc_visible": true
    },
    "kernelspec": {
      "name": "python3",
      "display_name": "Python 3"
    }
  },
  "cells": [
    {
      "cell_type": "markdown",
      "metadata": {
        "id": "0yc0r4-itlGq",
        "colab_type": "text"
      },
      "source": [
        "# Federated Learning on Facial Expression Recognition"
      ]
    },
    {
      "cell_type": "markdown",
      "metadata": {
        "id": "INJ_Zf1bZBR9",
        "colab_type": "text"
      },
      "source": [
        "Zhu He - Mike"
      ]
    },
    {
      "cell_type": "markdown",
      "metadata": {
        "id": "rkglnJyR1WXz",
        "colab_type": "text"
      },
      "source": [
        "## Abstract"
      ]
    },
    {
      "cell_type": "markdown",
      "metadata": {
        "id": "K2LLO6Mf1Ylr",
        "colab_type": "text"
      },
      "source": [
        "Recently, I have developed a mobile game, [Best Actor Game](https://apps.apple.com/cn/app/id1498575047), which is based on computer vision model to recognize human facial expression. I have designed the computer vision model using an architecture similar to VGGNet, and the details are described here in this [article](https://github.com/mikemikezhu/facial-expression-recognition). The computer vision model, using Tensorflow Lite, was deployed locally on the mobile device. However, if we allow the face data to be trained locally on user's device, we may improve our model constantly while protecting user's data privacy. Therefore, I try to use **federated learning** to re-design the computer vision model to make facial expression prediction. This document will discuss the basic concept of federated learning, as well as how the federated learning is implemented to create a facial expression recognition model with Tensorflow."
      ]
    },
    {
      "cell_type": "markdown",
      "metadata": {
        "id": "8fKJNZdJ1d8I",
        "colab_type": "text"
      },
      "source": [
        "## Federated Learning"
      ]
    },
    {
      "cell_type": "markdown",
      "metadata": {
        "id": "oA1Z72CM1gV8",
        "colab_type": "text"
      },
      "source": [
        "Federated learning is a decentralized approach which allows the data to be trained locally on user devices (e.g. mobile devices). Specifically, within a large number of user devices, only a fraction of which may be available for training at a given time. Therefore, the available user devices will be used to train the data locally, and compute the update to the shared global model maintained by the server, which will aggregate all the updates from the distributed devices, and compute weight using the `FederatedAveraging` algorithm in the following math formula.\n",
        "\n",
        "$w_{t+1}=\\sum_{k=1}^K \\frac{n_{k}}{n}w^{k}_{t+1}$\n",
        "\n",
        "Considering that modern smartphones have relatively fast processors (e.g. GPUs), the computation becomes essentially free for the federated learning. Therefore, the communication costs dominate during the federated optimization. Based on the research paper from Google, we may reduce the number of rounds of communication required to train a model in the following ways.\n",
        "\n",
        "- **Increase parallelism** by involving more clients to compute the update independently.\n",
        "- **Increase computation on each client** by allowing each client to perform a more complex calculation between each communication round.\n",
        "\n",
        "Federated learning has provided the following distinct advantages over the traditional approach to train the data in the data center.\n",
        "\n",
        "- It helps to **protect user's data privacy**, considering that the training data (e.g. user's photo, password, etc.) will only be retained locally on the edge devices.\n",
        "- It also helps to **reduce the network latency**. Since the data is trained locally, transporting large training data to the server is not necessary. Only the update of the training result will be communicated between the client and server, which greatly helps to reduce the network latency.\n",
        "- It also helps to **reduce the security risks**, since the privacy data is only stored locally, and therefore will not be easily leaked to attackers when there is attacks happening on the cloud, or the communication between client and server (e.g. Man-in-the-middle attack)."
      ]
    },
    {
      "cell_type": "markdown",
      "metadata": {
        "id": "eNZbq0khBP56",
        "colab_type": "text"
      },
      "source": [
        "Next, I will discuss how the federated learning is implemented to recognize human facial expression by using Tensorflow."
      ]
    },
    {
      "cell_type": "markdown",
      "metadata": {
        "id": "05OI7sK_1iC0",
        "colab_type": "text"
      },
      "source": [
        "### Install Packages"
      ]
    },
    {
      "cell_type": "markdown",
      "metadata": {
        "id": "cWbWcLQJCi7F",
        "colab_type": "text"
      },
      "source": [
        "First and foremost, let's install Tensorflow federated learning package."
      ]
    },
    {
      "cell_type": "code",
      "metadata": {
        "id": "6jTINVamKDRD",
        "colab_type": "code",
        "colab": {}
      },
      "source": [
        "# Tensorflow federated package \n",
        "!pip install --upgrade tensorflow_federated > /dev/null 2>&1"
      ],
      "execution_count": 0,
      "outputs": []
    },
    {
      "cell_type": "markdown",
      "metadata": {
        "id": "P7PZB48y1ldw",
        "colab_type": "text"
      },
      "source": [
        "### Download Data"
      ]
    },
    {
      "cell_type": "markdown",
      "metadata": {
        "id": "sHTJ4BsyCvu6",
        "colab_type": "text"
      },
      "source": [
        "Next, we need to download the dataset to train the computer vision model. Here we use FER2013 dataset in [Challenges in Representation Learning: Facial Expression Recognition Challenge](https://www.kaggle.com/c/challenges-in-representation-learning-facial-expression-recognition-challenge/data) in Kaggle. Therefore, let's configure Kaggle API and download the training dataset."
      ]
    },
    {
      "cell_type": "code",
      "metadata": {
        "id": "h4181vqWJ-mQ",
        "colab_type": "code",
        "outputId": "ff2d8782-0777-4623-cdd8-7adc4c39c6e9",
        "colab": {
          "base_uri": "https://localhost:8080/",
          "height": 377
        }
      },
      "source": [
        "import os\n",
        "\n",
        "# Configure kaggle\n",
        "os.chdir('/root/')\n",
        "!mkdir -p .kaggle\n",
        "os.chdir('/root/.kaggle')\n",
        "!wget --no-check-certificate 'https://docs.google.com/uc?export=download&id=1Y-o0TVcjehM8SZB3Nt8U3xkyeQu-Nse-' -O kaggle.json > /dev/null 2>&1\n",
        "!ls /root/.kaggle\n",
        "\n",
        "# Set permissions \n",
        "!chmod 600 /root/.kaggle/kaggle.json\n",
        "\n",
        "# Create data folder\n",
        "os.chdir('/content/')\n",
        "!rm -rf data\n",
        "!mkdir data\n",
        "os.chdir('data')\n",
        "!pwd\n",
        "\n",
        "# Download data\n",
        "!pip install -q kaggle\n",
        "!kaggle competitions download -c challenges-in-representation-learning-facial-expression-recognition-challenge\n",
        "\n",
        "# Unzip data\n",
        "!unzip train.csv.zip train.csv"
      ],
      "execution_count": 0,
      "outputs": [
        {
          "output_type": "stream",
          "text": [
            "kaggle.json\n",
            "/content/data\n",
            "Warning: Looks like you're using an outdated API Version, please consider updating (server 1.5.6 / client 1.5.4)\n",
            "Downloading example_submission.csv to /content/data\n",
            "  0% 0.00/7.01k [00:00<?, ?B/s]\n",
            "100% 7.01k/7.01k [00:00<00:00, 5.90MB/s]\n",
            "Downloading icml_face_data.csv.zip to /content/data\n",
            " 84% 81.0M/96.6M [00:00<00:00, 75.3MB/s]\n",
            "100% 96.6M/96.6M [00:00<00:00, 117MB/s] \n",
            "Downloading test.csv.zip to /content/data\n",
            " 47% 9.00M/19.3M [00:00<00:00, 42.1MB/s]\n",
            "100% 19.3M/19.3M [00:00<00:00, 62.9MB/s]\n",
            "Downloading fer2013.tar.gz to /content/data\n",
            " 94% 86.0M/92.0M [00:00<00:00, 84.7MB/s]\n",
            "100% 92.0M/92.0M [00:00<00:00, 126MB/s] \n",
            "Downloading train.csv.zip to /content/data\n",
            " 85% 66.0M/77.3M [00:00<00:00, 76.3MB/s]\n",
            "100% 77.3M/77.3M [00:00<00:00, 121MB/s] \n",
            "Archive:  train.csv.zip\n",
            "  inflating: train.csv               \n"
          ],
          "name": "stdout"
        }
      ]
    },
    {
      "cell_type": "markdown",
      "metadata": {
        "id": "C3cAm2uvDG6I",
        "colab_type": "text"
      },
      "source": [
        "### Load Data"
      ]
    },
    {
      "cell_type": "markdown",
      "metadata": {
        "id": "-FQFut3SDIZm",
        "colab_type": "text"
      },
      "source": [
        "The image dataset downloaded from Kaggle is in \".csv\" file format. Therefore, we need to load the \"train.csv\" file, and convert it to numpy array. The training images and labels are saved in \"x_train\" and \"y_train\" respectively."
      ]
    },
    {
      "cell_type": "code",
      "metadata": {
        "id": "WRsAPWKcKMS6",
        "colab_type": "code",
        "outputId": "3b4ff8a0-5846-40c3-dce7-5a3b21cf7bae",
        "colab": {
          "base_uri": "https://localhost:8080/",
          "height": 51
        }
      },
      "source": [
        "import csv\n",
        "import numpy\n",
        "\n",
        "train_images = []\n",
        "train_labels = []\n",
        "\n",
        "categories_count = {}\n",
        "\n",
        "with open('train.csv') as train:\n",
        "\n",
        "    # Read train.csv file\n",
        "    csv_reader = csv.reader(train)\n",
        "    next(csv_reader)  # Skip the header\n",
        "\n",
        "    for row in csv_reader:\n",
        "\n",
        "        # Append image\n",
        "        pixels_str = row[1]\n",
        "        pixels_list = [int(i) for i in pixels_str.split(' ')]\n",
        "        pixels_list = numpy.array(pixels_list, dtype='uint8')\n",
        "        image = pixels_list.reshape((48, 48))\n",
        "        train_images.append(image)\n",
        "\n",
        "        label_str = row[0]\n",
        "\n",
        "        # Calculate categories count\n",
        "        count = 0\n",
        "        if label_str in categories_count:\n",
        "            count = categories_count[label_str] + 1\n",
        "        categories_count[label_str] = count\n",
        "\n",
        "        # Append label\n",
        "        label = int(label_str)\n",
        "        train_labels.append(label)\n",
        "\n",
        "# Create numpy array of train images and labels\n",
        "x_train = numpy.array(train_images)\n",
        "y_train = numpy.array(train_labels)\n",
        "\n",
        "print('x_train shape: {0}'.format(x_train.shape))\n",
        "print('y_train shape: {0}'.format(y_train.shape))"
      ],
      "execution_count": 0,
      "outputs": [
        {
          "output_type": "stream",
          "text": [
            "x_train shape: (28709, 48, 48)\n",
            "y_train shape: (28709,)\n"
          ],
          "name": "stdout"
        }
      ]
    },
    {
      "cell_type": "markdown",
      "metadata": {
        "id": "tROxWO0PDPMF",
        "colab_type": "text"
      },
      "source": [
        "Then, let's show one of the images in the dataset. Each image is grey-scale and contains 48 x 48 pixels."
      ]
    },
    {
      "cell_type": "code",
      "metadata": {
        "id": "wesVYFOvKUOc",
        "colab_type": "code",
        "outputId": "46f75d7e-b45a-470f-921c-cab22aa9de7b",
        "colab": {
          "base_uri": "https://localhost:8080/",
          "height": 301
        }
      },
      "source": [
        "from matplotlib import pyplot as plt\n",
        "%matplotlib inline\n",
        "\n",
        "# Show some image\n",
        "image = x_train[0]\n",
        "label = y_train[0]\n",
        "\n",
        "print('Label is: ' + str(label))\n",
        "plt.imshow(image, cmap='gray')"
      ],
      "execution_count": 0,
      "outputs": [
        {
          "output_type": "stream",
          "text": [
            "Label is: 0\n"
          ],
          "name": "stdout"
        },
        {
          "output_type": "execute_result",
          "data": {
            "text/plain": [
              "<matplotlib.image.AxesImage at 0x7fe883d18dd8>"
            ]
          },
          "metadata": {
            "tags": []
          },
          "execution_count": 4
        },
        {
          "output_type": "display_data",
          "data": {
            "image/png": "[encoded data removed]",
            "text/plain": [
              "<Figure size 432x288 with 1 Axes>"
            ]
          },
          "metadata": {
            "tags": []
          }
        }
      ]
    },
    {
      "cell_type": "markdown",
      "metadata": {
        "id": "dVJr-mxm2Pg5",
        "colab_type": "text"
      },
      "source": [
        "### Preprocess Data"
      ]
    },
    {
      "cell_type": "markdown",
      "metadata": {
        "id": "pipJJEZmDRzo",
        "colab_type": "text"
      },
      "source": [
        "Next, we need to preprocess and prepare the federated data. Since the training data will be distributed in each user's local device, let's assume we have 3 clients, and each client has 5 images to train, in order to simulate the scenario."
      ]
    },
    {
      "cell_type": "code",
      "metadata": {
        "id": "b4VaSktgKn3l",
        "colab_type": "code",
        "outputId": "8fba013c-e2be-4701-b98b-21069b7e64af",
        "colab": {
          "base_uri": "https://localhost:8080/",
          "height": 68
        }
      },
      "source": [
        "%tensorflow_version 2.x\n",
        "import tensorflow as tf\n",
        "\n",
        "print('Tensorflow version: {}'.format(tf.__version__))\n",
        "\n",
        "from tensorflow import reshape\n",
        "from collections import OrderedDict\n",
        "\n",
        "\"\"\"\n",
        "Assume we have 3 clients, each client has 5 images to train\n",
        "\"\"\"\n",
        "\n",
        "# Assume each client has 5 images to train\n",
        "TRAIN_DATA_PER_CLIENT = 5\n",
        "\n",
        "# Train 3 times for each image\n",
        "TRAINING_EPOCHS = 3\n",
        "\n",
        "# Prepare training data for each client\n",
        "x_client_1 = x_train[0 : TRAIN_DATA_PER_CLIENT]\n",
        "y_client_1 = y_train[0 : TRAIN_DATA_PER_CLIENT]\n",
        "\n",
        "x_client_2 = x_train[TRAIN_DATA_PER_CLIENT : TRAIN_DATA_PER_CLIENT * 2]\n",
        "y_client_2 = y_train[TRAIN_DATA_PER_CLIENT : TRAIN_DATA_PER_CLIENT * 2]\n",
        "\n",
        "x_client_3 = x_train[TRAIN_DATA_PER_CLIENT * 2 : TRAIN_DATA_PER_CLIENT * 3]\n",
        "y_client_3 = y_train[TRAIN_DATA_PER_CLIENT * 2 : TRAIN_DATA_PER_CLIENT * 3]\n",
        "print(x_client_3.shape)\n",
        "\n",
        "# Prepare test data\n",
        "x_test = x_train[TRAIN_DATA_PER_CLIENT * 3 : TRAIN_DATA_PER_CLIENT * 4]\n",
        "y_test = y_train[TRAIN_DATA_PER_CLIENT * 3 : TRAIN_DATA_PER_CLIENT * 4]\n",
        "\n",
        "# Create federated data\n",
        "def create_federated_data(x_train, y_train):\n",
        "\n",
        "    orderDict = OrderedDict()\n",
        "    pixels_list = []\n",
        "    \n",
        "    x_train = x_train / 255.0\n",
        "    x_train = x_train.reshape(len(x_train), 48, 48, 1)\n",
        "\n",
        "    orderDict['x'] = numpy.array(x_train)\n",
        "    orderDict['y'] = numpy.array(y_train)\n",
        "    dataset = tf.data.Dataset.from_tensor_slices(orderDict)\n",
        "    batch = dataset.shuffle(10).batch(5)\n",
        "\n",
        "    return batch\n",
        "\n",
        "federated_data_client_1 = [create_federated_data(x_client_1, y_client_1) for epoch in range(TRAINING_EPOCHS)]\n",
        "federated_data_client_2 = [create_federated_data(x_client_2, y_client_2) for epoch in range(TRAINING_EPOCHS)]\n",
        "federated_data_client_3 = [create_federated_data(x_client_3, y_client_3) for epoch in range(TRAINING_EPOCHS)]\n",
        "\n",
        "federated_data_test = [create_federated_data(x_test, y_test) for epoch in range(TRAINING_EPOCHS)]\n",
        "\n",
        "print('Total training epochs: {}'.format(len(federated_data_client_3)))"
      ],
      "execution_count": 0,
      "outputs": [
        {
          "output_type": "stream",
          "text": [
            "Tensorflow version: 2.1.0\n",
            "(5, 48, 48)\n",
            "Total training epochs: 3\n"
          ],
          "name": "stdout"
        }
      ]
    },
    {
      "cell_type": "markdown",
      "metadata": {
        "id": "dO7RTarO2Tmd",
        "colab_type": "text"
      },
      "source": [
        "### Create Model"
      ]
    },
    {
      "cell_type": "markdown",
      "metadata": {
        "id": "46n9fSVSFL2d",
        "colab_type": "text"
      },
      "source": [
        "By referring to VGGNet architecture, we have designed the computer vision model with several stacks of layers. The model will have the following components:\n",
        "- Convolutional layers: These layers are the building blocks of our architecture, which learns the image feature by computing the dot product between the weights and the small region on the image. Similar to VGGNet architecture, all the convolutional layers are designed with 3 x 3 kernal size, and several filters.\n",
        "- Activation functions: The activation functions are those functions which are applied to the outputs of the layers in the network. Specifically, we use ReLU (Rectified Linear Unit) activation function to increase the non-linearity of the network. Besides, a Softmax function will be used to compute the probability of each category.\n",
        "- Pooling layers: These layers will down-sample the image to reduce the spatial data and extract features. In our model, we will use Max Pooling with A 3 x 3 pooling size and a 2 x 2 stride.\n",
        "- Dense layers: The dense layers are stacked as the fully connected layers of the network, which take in the feature data from the previous convolutional layers and perform decision making.\n",
        "- Dropout layers: The dropout layers are used to prevent over-fitting when training the model.\n",
        "- Batch normalization: This technique can be used to speed up learning by normalizing the output of the previous activation layer. \n",
        "\n",
        "The diagram of the model is displayed as follows.\n",
        "\n",
        "![cnn](https://drive.google.com/uc?id=1jjORxRgvEDDMLZ-mX5JkCnUWUFn7IHpL)\n",
        "\n",
        "Our model contains 5 stacks of layers. In each of the first 4 stacks of layers, there are 2 convolutional layer followed by 1 pooling layer. Besides, we use batch normalization to speed up training and dropout to prevent over-fitting. Then we have one stack of 3 fully-connected layers, followed by a Softmax activation function, which generates the probability of the facial expression categories. Finally, we compile our model using Adam optimizer with a certain learning rate. Considering that we are dealing with classification issue, we will use `sparse_categorical_crossentropy` as the loss function."
      ]
    },
    {
      "cell_type": "code",
      "metadata": {
        "id": "8F0LQtWLRqV3",
        "colab_type": "code",
        "outputId": "6d89e4a3-6cd2-4d34-aa4f-6664ff996cfd",
        "colab": {
          "base_uri": "https://localhost:8080/",
          "height": 1000
        }
      },
      "source": [
        "from tensorflow.keras.models import Sequential\n",
        "from tensorflow.keras.layers import Conv2D, BatchNormalization, MaxPool2D, Dropout, Flatten, Dense\n",
        "\n",
        "from tensorflow.keras.optimizers import SGD\n",
        "from tensorflow.keras.losses import SparseCategoricalCrossentropy\n",
        "from tensorflow.keras.metrics import SparseCategoricalAccuracy\n",
        "\n",
        "def create_keras_model():\n",
        "\n",
        "    # Create keras model\n",
        "    model = Sequential()\n",
        "\n",
        "    # 1st convolution layer\n",
        "    model.add(Conv2D(64, input_shape=(48, 48, 1), kernel_size=(3, 3), activation='relu'))\n",
        "    model.add(BatchNormalization())\n",
        "    model.add(Conv2D(64, padding='same', kernel_size=(3, 3), activation='relu'))\n",
        "    model.add(BatchNormalization())\n",
        "    model.add(MaxPool2D(pool_size=(3, 3), strides=(2, 2)))\n",
        "    model.add(Dropout(0.3))\n",
        "\n",
        "    # 2nd convolution layer\n",
        "    model.add(Conv2D(128, padding='same', kernel_size=(3, 3), activation='relu'))\n",
        "    model.add(BatchNormalization())\n",
        "    model.add(Conv2D(128, padding='same', kernel_size=(3, 3), activation='relu'))\n",
        "    model.add(BatchNormalization())\n",
        "    model.add(MaxPool2D(pool_size=(3, 3), strides=(2, 2)))\n",
        "    model.add(Dropout(0.3))\n",
        "\n",
        "    # 3rd convolution layer\n",
        "    model.add(Conv2D(256, padding='same', kernel_size=(3, 3), activation='relu'))\n",
        "    model.add(BatchNormalization())\n",
        "    model.add(Conv2D(256, padding='same', kernel_size=(3, 3), activation='relu'))\n",
        "    model.add(BatchNormalization())\n",
        "    model.add(MaxPool2D(pool_size=(3, 3), strides=(2, 2)))\n",
        "    model.add(Dropout(0.3))\n",
        "\n",
        "    # 4th convolution layer\n",
        "    model.add(Conv2D(512, padding='same', kernel_size=(3, 3), activation='relu'))\n",
        "    model.add(BatchNormalization())\n",
        "    model.add(Conv2D(512, padding='same', kernel_size=(3, 3), activation='relu'))\n",
        "    model.add(BatchNormalization())\n",
        "    model.add(MaxPool2D(pool_size=(3, 3), strides=(2, 2)))\n",
        "    model.add(Dropout(0.3))\n",
        "\n",
        "    # Fully connected layer\n",
        "    model.add(Flatten())\n",
        "    model.add(Dense(512, activation='relu'))\n",
        "    model.add(Dropout(0.3))\n",
        "    model.add(Dense(256, activation='relu'))\n",
        "    model.add(Dropout(0.3))\n",
        "    model.add(Dense(64, activation='relu'))\n",
        "    model.add(Dropout(0.3))\n",
        "\n",
        "    model.add(Dense(7, activation='softmax'))\n",
        "\n",
        "    # Compile the model\n",
        "    model.compile(loss=SparseCategoricalCrossentropy(),\n",
        "                  optimizer=SGD(learning_rate=0.02),\n",
        "                  metrics=[SparseCategoricalAccuracy()])\n",
        "    \n",
        "    return model\n",
        "\n",
        "# Summary model\n",
        "keras_model = create_keras_model()\n",
        "keras_model.summary()"
      ],
      "execution_count": 0,
      "outputs": [
        {
          "output_type": "stream",
          "text": [
            "Model: \"sequential\"\n",
            "_________________________________________________________________\n",
            "Layer (type)                 Output Shape              Param #   \n",
            "=================================================================\n",
            "conv2d (Conv2D)              (None, 46, 46, 64)        640       \n",
            "_________________________________________________________________\n",
            "batch_normalization (BatchNo (None, 46, 46, 64)        256       \n",
            "_________________________________________________________________\n",
            "conv2d_1 (Conv2D)            (None, 46, 46, 64)        36928     \n",
            "_________________________________________________________________\n",
            "batch_normalization_1 (Batch (None, 46, 46, 64)        256       \n",
            "_________________________________________________________________\n",
            "max_pooling2d (MaxPooling2D) (None, 22, 22, 64)        0         \n",
            "_________________________________________________________________\n",
            "dropout (Dropout)            (None, 22, 22, 64)        0         \n",
            "_________________________________________________________________\n",
            "conv2d_2 (Conv2D)            (None, 22, 22, 128)       73856     \n",
            "_________________________________________________________________\n",
            "batch_normalization_2 (Batch (None, 22, 22, 128)       512       \n",
            "_________________________________________________________________\n",
            "conv2d_3 (Conv2D)            (None, 22, 22, 128)       147584    \n",
            "_________________________________________________________________\n",
            "batch_normalization_3 (Batch (None, 22, 22, 128)       512       \n",
            "_________________________________________________________________\n",
            "max_pooling2d_1 (MaxPooling2 (None, 10, 10, 128)       0         \n",
            "_________________________________________________________________\n",
            "dropout_1 (Dropout)          (None, 10, 10, 128)       0         \n",
            "_________________________________________________________________\n",
            "conv2d_4 (Conv2D)            (None, 10, 10, 256)       295168    \n",
            "_________________________________________________________________\n",
            "batch_normalization_4 (Batch (None, 10, 10, 256)       1024      \n",
            "_________________________________________________________________\n",
            "conv2d_5 (Conv2D)            (None, 10, 10, 256)       590080    \n",
            "_________________________________________________________________\n",
            "batch_normalization_5 (Batch (None, 10, 10, 256)       1024      \n",
            "_________________________________________________________________\n",
            "max_pooling2d_2 (MaxPooling2 (None, 4, 4, 256)         0         \n",
            "_________________________________________________________________\n",
            "dropout_2 (Dropout)          (None, 4, 4, 256)         0         \n",
            "_________________________________________________________________\n",
            "conv2d_6 (Conv2D)            (None, 4, 4, 512)         1180160   \n",
            "_________________________________________________________________\n",
            "batch_normalization_6 (Batch (None, 4, 4, 512)         2048      \n",
            "_________________________________________________________________\n",
            "conv2d_7 (Conv2D)            (None, 4, 4, 512)         2359808   \n",
            "_________________________________________________________________\n",
            "batch_normalization_7 (Batch (None, 4, 4, 512)         2048      \n",
            "_________________________________________________________________\n",
            "max_pooling2d_3 (MaxPooling2 (None, 1, 1, 512)         0         \n",
            "_________________________________________________________________\n",
            "dropout_3 (Dropout)          (None, 1, 1, 512)         0         \n",
            "_________________________________________________________________\n",
            "flatten (Flatten)            (None, 512)               0         \n",
            "_________________________________________________________________\n",
            "dense (Dense)                (None, 512)               262656    \n",
            "_________________________________________________________________\n",
            "dropout_4 (Dropout)          (None, 512)               0         \n",
            "_________________________________________________________________\n",
            "dense_1 (Dense)              (None, 256)               131328    \n",
            "_________________________________________________________________\n",
            "dropout_5 (Dropout)          (None, 256)               0         \n",
            "_________________________________________________________________\n",
            "dense_2 (Dense)              (None, 64)                16448     \n",
            "_________________________________________________________________\n",
            "dropout_6 (Dropout)          (None, 64)                0         \n",
            "_________________________________________________________________\n",
            "dense_3 (Dense)              (None, 7)                 455       \n",
            "=================================================================\n",
            "Total params: 5,102,791\n",
            "Trainable params: 5,098,951\n",
            "Non-trainable params: 3,840\n",
            "_________________________________________________________________\n"
          ],
          "name": "stdout"
        }
      ]
    },
    {
      "cell_type": "markdown",
      "metadata": {
        "id": "PCBQ_5XmFmS-",
        "colab_type": "text"
      },
      "source": [
        "Next, wrap our compiled Keras model in an instance of the `tff.learning.Model` interface, in order to use the Tensorflow federated learning."
      ]
    },
    {
      "cell_type": "code",
      "metadata": {
        "id": "sE-xl-Ira8c4",
        "colab_type": "code",
        "outputId": "554425f6-cf37-4be0-ac4c-cff5ffb6c4dd",
        "colab": {
          "base_uri": "https://localhost:8080/",
          "height": 34
        }
      },
      "source": [
        "import tensorflow_federated as tff\n",
        "\n",
        "# Create dummy batch\n",
        "dummy_batch = tf.nest.map_structure(lambda x: x.numpy(), iter(federated_data_client_1[0]).next())\n",
        "print(dummy_batch['x'].shape)\n",
        "\n",
        "def create_federated_model():\n",
        "\n",
        "    # Create keras model\n",
        "    keras_model = create_keras_model()\n",
        "    \n",
        "    # Convert keras model to federated model\n",
        "    return tff.learning.from_compiled_keras_model(keras_model, dummy_batch)"
      ],
      "execution_count": 0,
      "outputs": [
        {
          "output_type": "stream",
          "text": [
            "(5, 48, 48, 1)\n"
          ],
          "name": "stdout"
        }
      ]
    },
    {
      "cell_type": "markdown",
      "metadata": {
        "id": "LtOjQitE2WF-",
        "colab_type": "text"
      },
      "source": [
        "### Train Model"
      ]
    },
    {
      "cell_type": "markdown",
      "metadata": {
        "id": "B19X3LvXXq6f",
        "colab_type": "text"
      },
      "source": [
        "Then, we need to build federated averate process and start training."
      ]
    },
    {
      "cell_type": "code",
      "metadata": {
        "id": "jmqJXOfzbfIL",
        "colab_type": "code",
        "outputId": "73b41ac7-ddce-476b-b963-aa889bff3a74",
        "colab": {
          "base_uri": "https://localhost:8080/",
          "height": 496
        }
      },
      "source": [
        "# Build federated average process\n",
        "trainer = tff.learning.build_federated_averaging_process(create_federated_model)\n",
        "\n",
        "# Create initial state\n",
        "train_state = trainer.initialize()"
      ],
      "execution_count": 0,
      "outputs": [
        {
          "output_type": "stream",
          "text": [
            "WARNING:tensorflow:From /tensorflow-2.1.0/python3.6/tensorflow_core/python/ops/resource_variable_ops.py:1635: calling BaseResourceVariable.__init__ (from tensorflow.python.ops.resource_variable_ops) with constraint is deprecated and will be removed in a future version.\n",
            "Instructions for updating:\n",
            "If using Keras pass *_constraint arguments to layers.\n",
            "WARNING:tensorflow:Layer conv2d is casting an input tensor from dtype float64 to the layer's dtype of float32, which is new behavior in TensorFlow 2.  The layer has dtype float32 because it's dtype defaults to floatx.\n",
            "\n",
            "If you intended to run this layer in float32, you can safely ignore this warning. If in doubt, this warning is likely only an issue if you are porting a TensorFlow 1.X model to TensorFlow 2.\n",
            "\n",
            "To change all layers to have dtype float64 by default, call `tf.keras.backend.set_floatx('float64')`. To change just this layer, pass dtype='float64' to the layer constructor. If you are the author of this layer, you can disable autocasting by passing autocast=False to the base Layer constructor.\n",
            "\n",
            "WARNING:tensorflow:Layer conv2d is casting an input tensor from dtype float64 to the layer's dtype of float32, which is new behavior in TensorFlow 2.  The layer has dtype float32 because it's dtype defaults to floatx.\n",
            "\n",
            "If you intended to run this layer in float32, you can safely ignore this warning. If in doubt, this warning is likely only an issue if you are porting a TensorFlow 1.X model to TensorFlow 2.\n",
            "\n",
            "To change all layers to have dtype float64 by default, call `tf.keras.backend.set_floatx('float64')`. To change just this layer, pass dtype='float64' to the layer constructor. If you are the author of this layer, you can disable autocasting by passing autocast=False to the base Layer constructor.\n",
            "\n",
            "WARNING:tensorflow:Layer conv2d is casting an input tensor from dtype float64 to the layer's dtype of float32, which is new behavior in TensorFlow 2.  The layer has dtype float32 because it's dtype defaults to floatx.\n",
            "\n",
            "If you intended to run this layer in float32, you can safely ignore this warning. If in doubt, this warning is likely only an issue if you are porting a TensorFlow 1.X model to TensorFlow 2.\n",
            "\n",
            "To change all layers to have dtype float64 by default, call `tf.keras.backend.set_floatx('float64')`. To change just this layer, pass dtype='float64' to the layer constructor. If you are the author of this layer, you can disable autocasting by passing autocast=False to the base Layer constructor.\n",
            "\n",
            "WARNING:tensorflow:Layer conv2d is casting an input tensor from dtype float64 to the layer's dtype of float32, which is new behavior in TensorFlow 2.  The layer has dtype float32 because it's dtype defaults to floatx.\n",
            "\n",
            "If you intended to run this layer in float32, you can safely ignore this warning. If in doubt, this warning is likely only an issue if you are porting a TensorFlow 1.X model to TensorFlow 2.\n",
            "\n",
            "To change all layers to have dtype float64 by default, call `tf.keras.backend.set_floatx('float64')`. To change just this layer, pass dtype='float64' to the layer constructor. If you are the author of this layer, you can disable autocasting by passing autocast=False to the base Layer constructor.\n",
            "\n"
          ],
          "name": "stdout"
        }
      ]
    },
    {
      "cell_type": "code",
      "metadata": {
        "id": "Am2yZAkAGFs0",
        "colab_type": "code",
        "outputId": "2e4d4d88-82af-4544-e2e9-b3afef015b88",
        "colab": {
          "base_uri": "https://localhost:8080/",
          "height": 692
        }
      },
      "source": [
        "# Train on federated model\n",
        "print('========== Train on Local Device of Client 1 ==========')\n",
        "\n",
        "history_accuracy_1 = []\n",
        "history_loss_1 = []\n",
        "\n",
        "for round_num in range(6):\n",
        "    train_state, train_metrics = trainer.next(train_state, federated_data_client_1)\n",
        "    history_accuracy_1.append(train_metrics.sparse_categorical_accuracy)\n",
        "    history_loss_1.append(train_metrics.loss)\n",
        "    print('round {:2d}, metrics={}'.format(round_num, train_metrics))\n",
        "\n",
        "# Show accuracy diagram\n",
        "plt.title('Model Accuracy for Client 1')\n",
        "plt.plot(history_accuracy_1, label='accuracy')\n",
        "plt.xlabel('Epoch')\n",
        "plt.ylabel('Accuracy')\n",
        "plt.show()\n",
        "\n",
        "# Show loss diagram\n",
        "plt.title('Model Loss for Client 1')\n",
        "plt.plot(history_loss_1, label='loss')\n",
        "plt.xlabel('Epoch')\n",
        "plt.ylabel('Loss')\n",
        "plt.show()"
      ],
      "execution_count": 0,
      "outputs": [
        {
          "output_type": "stream",
          "text": [
            "========== Train on Local Device of Client 1 ==========\n",
            "round  0, metrics=<sparse_categorical_accuracy=0.3333333432674408,loss=3.2094497680664062>\n",
            "round  1, metrics=<sparse_categorical_accuracy=0.7333333492279053,loss=0.9364567995071411>\n",
            "round  2, metrics=<sparse_categorical_accuracy=0.6666666865348816,loss=0.812284529209137>\n",
            "round  3, metrics=<sparse_categorical_accuracy=0.6000000238418579,loss=0.8869265913963318>\n",
            "round  4, metrics=<sparse_categorical_accuracy=0.6666666865348816,loss=0.6965619325637817>\n",
            "round  5, metrics=<sparse_categorical_accuracy=0.800000011920929,loss=0.5766454935073853>\n"
          ],
          "name": "stdout"
        },
        {
          "output_type": "display_data",
          "data": {
            "image/png": "[encoded data removed]",
            "text/plain": [
              "<Figure size 432x288 with 1 Axes>"
            ]
          },
          "metadata": {
            "tags": []
          }
        },
        {
          "output_type": "display_data",
          "data": {
            "image/png": "[encoded data removed]",
            "text/plain": [
              "<Figure size 432x288 with 1 Axes>"
            ]
          },
          "metadata": {
            "tags": []
          }
        }
      ]
    },
    {
      "cell_type": "code",
      "metadata": {
        "id": "U36mF5ffG0pr",
        "colab_type": "code",
        "outputId": "79b15000-bfb3-4c78-8f73-0284ab15d335",
        "colab": {
          "base_uri": "https://localhost:8080/",
          "height": 692
        }
      },
      "source": [
        "# Train on federated model\n",
        "print('========== Train on Local Device of Client 2 ==========')\n",
        "\n",
        "history_accuracy_2 = []\n",
        "history_loss_2 = []\n",
        "\n",
        "for round_num in range(6):\n",
        "    train_state, train_metrics = trainer.next(train_state, federated_data_client_2)\n",
        "    history_accuracy_2.append(train_metrics.sparse_categorical_accuracy)\n",
        "    history_loss_2.append(train_metrics.loss)\n",
        "    print('round {:2d}, metrics={}'.format(round_num, train_metrics))\n",
        "\n",
        "# Show accuracy diagram\n",
        "plt.title('Model Accuracy for Client 2')\n",
        "plt.plot(history_accuracy_2, label='accuracy')\n",
        "plt.xlabel('Epoch')\n",
        "plt.ylabel('Accuracy')\n",
        "plt.show()\n",
        "\n",
        "# Show loss diagram\n",
        "plt.title('Model Loss for Client 2')\n",
        "plt.plot(history_loss_2, label='loss')\n",
        "plt.xlabel('Epoch')\n",
        "plt.ylabel('Loss')\n",
        "plt.show()"
      ],
      "execution_count": 0,
      "outputs": [
        {
          "output_type": "stream",
          "text": [
            "========== Train on Local Device of Client 2 ==========\n",
            "round  0, metrics=<sparse_categorical_accuracy=0.06666667014360428,loss=8.141902923583984>\n",
            "round  1, metrics=<sparse_categorical_accuracy=0.20000000298023224,loss=1.9447388648986816>\n",
            "round  2, metrics=<sparse_categorical_accuracy=0.800000011920929,loss=0.5845308899879456>\n",
            "round  3, metrics=<sparse_categorical_accuracy=0.800000011920929,loss=0.49472060799598694>\n",
            "round  4, metrics=<sparse_categorical_accuracy=0.7333333492279053,loss=0.5940064787864685>\n",
            "round  5, metrics=<sparse_categorical_accuracy=0.8666666746139526,loss=0.39928290247917175>\n"
          ],
          "name": "stdout"
        },
        {
          "output_type": "display_data",
          "data": {
            "image/png": "[encoded data removed]",
            "text/plain": [
              "<Figure size 432x288 with 1 Axes>"
            ]
          },
          "metadata": {
            "tags": []
          }
        },
        {
          "output_type": "display_data",
          "data": {
            "image/png": "[encoded data removed]",
            "text/plain": [
              "<Figure size 432x288 with 1 Axes>"
            ]
          },
          "metadata": {
            "tags": []
          }
        }
      ]
    },
    {
      "cell_type": "code",
      "metadata": {
        "id": "ZN-9LJJkG3Xf",
        "colab_type": "code",
        "outputId": "e1c83714-0373-4456-8cd7-134f240ac796",
        "colab": {
          "base_uri": "https://localhost:8080/",
          "height": 692
        }
      },
      "source": [
        "# Train on federated model\n",
        "print('========== Train on Local Device of Client 3 ==========')\n",
        "\n",
        "history_accuracy_3 = []\n",
        "history_loss_3 = []\n",
        "\n",
        "for round_num in range(6):\n",
        "    train_state, train_metrics = trainer.next(train_state, federated_data_client_3)\n",
        "    history_accuracy_3.append(train_metrics.sparse_categorical_accuracy)\n",
        "    history_loss_3.append(train_metrics.loss)\n",
        "    print('round {:2d}, metrics={}'.format(round_num, train_metrics))\n",
        "\n",
        "# Show accuracy diagram\n",
        "plt.title('Model Accuracy for Client 3')\n",
        "plt.plot(history_accuracy_3, label='accuracy')\n",
        "plt.xlabel('Epoch')\n",
        "plt.ylabel('Accuracy')\n",
        "plt.show()\n",
        "\n",
        "# Show loss diagram\n",
        "plt.title('Model Loss for Client 3')\n",
        "plt.plot(history_loss_3, label='loss')\n",
        "plt.xlabel('Epoch')\n",
        "plt.ylabel('Loss')\n",
        "plt.show()"
      ],
      "execution_count": 0,
      "outputs": [
        {
          "output_type": "stream",
          "text": [
            "========== Train on Local Device of Client 3 ==========\n",
            "round  0, metrics=<sparse_categorical_accuracy=0.0,loss=5.371275901794434>\n",
            "round  1, metrics=<sparse_categorical_accuracy=0.3333333432674408,loss=2.1037437915802>\n",
            "round  2, metrics=<sparse_categorical_accuracy=0.6000000238418579,loss=1.1378229856491089>\n",
            "round  3, metrics=<sparse_categorical_accuracy=0.6000000238418579,loss=1.1078845262527466>\n",
            "round  4, metrics=<sparse_categorical_accuracy=0.7333333492279053,loss=0.6068843603134155>\n",
            "round  5, metrics=<sparse_categorical_accuracy=1.0,loss=0.2441573590040207>\n"
          ],
          "name": "stdout"
        },
        {
          "output_type": "display_data",
          "data": {
            "image/png": "[encoded data removed]",
            "text/plain": [
              "<Figure size 432x288 with 1 Axes>"
            ]
          },
          "metadata": {
            "tags": []
          }
        },
        {
          "output_type": "display_data",
          "data": {
            "image/png": "[encoded data removed]",
            "text/plain": [
              "<Figure size 432x288 with 1 Axes>"
            ]
          },
          "metadata": {
            "tags": []
          }
        }
      ]
    },
    {
      "cell_type": "markdown",
      "metadata": {
        "id": "VoYTfdm8WKj-",
        "colab_type": "text"
      },
      "source": [
        "### Evaluate Model"
      ]
    },
    {
      "cell_type": "markdown",
      "metadata": {
        "id": "d2wc31l8WM3P",
        "colab_type": "text"
      },
      "source": [
        "Last but not least, let's evaluate the model after federated training process."
      ]
    },
    {
      "cell_type": "code",
      "metadata": {
        "id": "P-UijEryWWm0",
        "colab_type": "code",
        "outputId": "5f7912fc-f688-4243-b3b3-fb2fd9957d11",
        "colab": {
          "base_uri": "https://localhost:8080/",
          "height": 241
        }
      },
      "source": [
        "evaluator = tff.learning.build_federated_evaluation(create_federated_model)"
      ],
      "execution_count": 0,
      "outputs": [
        {
          "output_type": "stream",
          "text": [
            "WARNING:tensorflow:Layer conv2d is casting an input tensor from dtype float64 to the layer's dtype of float32, which is new behavior in TensorFlow 2.  The layer has dtype float32 because it's dtype defaults to floatx.\n",
            "\n",
            "If you intended to run this layer in float32, you can safely ignore this warning. If in doubt, this warning is likely only an issue if you are porting a TensorFlow 1.X model to TensorFlow 2.\n",
            "\n",
            "To change all layers to have dtype float64 by default, call `tf.keras.backend.set_floatx('float64')`. To change just this layer, pass dtype='float64' to the layer constructor. If you are the author of this layer, you can disable autocasting by passing autocast=False to the base Layer constructor.\n",
            "\n",
            "WARNING:tensorflow:Layer conv2d is casting an input tensor from dtype float64 to the layer's dtype of float32, which is new behavior in TensorFlow 2.  The layer has dtype float32 because it's dtype defaults to floatx.\n",
            "\n",
            "If you intended to run this layer in float32, you can safely ignore this warning. If in doubt, this warning is likely only an issue if you are porting a TensorFlow 1.X model to TensorFlow 2.\n",
            "\n",
            "To change all layers to have dtype float64 by default, call `tf.keras.backend.set_floatx('float64')`. To change just this layer, pass dtype='float64' to the layer constructor. If you are the author of this layer, you can disable autocasting by passing autocast=False to the base Layer constructor.\n",
            "\n"
          ],
          "name": "stdout"
        }
      ]
    },
    {
      "cell_type": "code",
      "metadata": {
        "id": "4cgOiNF7XWW8",
        "colab_type": "code",
        "outputId": "30f00ae6-17e4-49a2-de2b-2a5618a68cd6",
        "colab": {
          "base_uri": "https://localhost:8080/",
          "height": 34
        }
      },
      "source": [
        "test_metrics = evaluator(train_state.model, federated_data_test)\n",
        "print(test_metrics)"
      ],
      "execution_count": 0,
      "outputs": [
        {
          "output_type": "stream",
          "text": [
            "<sparse_categorical_accuracy=0.20000000298023224,loss=6.025786399841309>\n"
          ],
          "name": "stdout"
        }
      ]
    },
    {
      "cell_type": "markdown",
      "metadata": {
        "id": "OuX_mvFVGRG6",
        "colab_type": "text"
      },
      "source": [
        "## Further Thinking"
      ]
    },
    {
      "cell_type": "markdown",
      "metadata": {
        "id": "JhLGU0V1S8JA",
        "colab_type": "text"
      },
      "source": [
        "During the federated training process, I have come up with the following thoughts which might consider to improve the federated training in the future."
      ]
    },
    {
      "cell_type": "markdown",
      "metadata": {
        "id": "DO5BBfnDGW1c",
        "colab_type": "text"
      },
      "source": [
        "- Early stopping on federated training: \n",
        "\n",
        "**Early stopping** strategy is generally used to stop the training process when there is no obvious improvement in the validation process. Therefore, I would suggest that early stopping shall also be integrated in the federated training process. For example, the shared model in the centralized server may reject the client's update when the validation process reaches a certain plateau.\n",
        "\n",
        "- Centralized server handling upon receiving large amount of local update: \n",
        "\n",
        "There is a shared model in the centralized server constantly receiving the update from the clients. However, if there are multiple clients simultaneously update to the model of the centralized server, it might significantly increase the burder of the server load. Therefore, I would suggest to use a **Message Queue** (e.g. RabbitMQ, or Kafka) to reduce server load. Besides, instead of using one shared model in one single server, we could copy several instances of models in multiple paralleled servers, and compute the model update in parallel using **Load Balancing** techniques.\n",
        "\n",
        "- Future application of federate learning: \n",
        "\n",
        "We may also consider to perform federated learning in distributed devices other than user devices (e.g. mobile devices). For example, a **Content Delivery Network (CDN)** is generally used to provide fast internet delivery through a geographically distributed group of servers. Therefore, I would suggest that we may also conduct machine learning training in these servers in the CDN network, and inform the model update to other server nodes by using **Gossip Protocol** strategy."
      ]
    },
    {
      "cell_type": "markdown",
      "metadata": {
        "id": "DTgp0qi9GXSD",
        "colab_type": "text"
      },
      "source": [
        "## Conclusion"
      ]
    },
    {
      "cell_type": "markdown",
      "metadata": {
        "id": "bgZk3ztPGZMu",
        "colab_type": "text"
      },
      "source": [
        "To put it in a nutshell, this document has introduced the concept of federated learning, and the implementation of federated training to create a computer vision model for facial expression recognition."
      ]
    },
    {
      "cell_type": "markdown",
      "metadata": {
        "id": "D6S_bspNGZy3",
        "colab_type": "text"
      },
      "source": [
        "## Reference"
      ]
    },
    {
      "cell_type": "markdown",
      "metadata": {
        "id": "kNYDP6-nGayG",
        "colab_type": "text"
      },
      "source": [
        "- [Communication-Efficient Learning of Deep Networks from Decentralized Data](https://arxiv.org/pdf/1602.05629.pdf)\n",
        "- [Federated Learning for Image Classification](https://www.tensorflow.org/federated/tutorials/federated_learning_for_image_classification#evaluation)\n",
        "- [TensorFlow Federated: Machine Learning on Decentralized Data](https://www.tensorflow.org/federated)\n",
        "- [Facial Expression Recognition Challenge using Convolutional Neural Network](https://mikemikezhu.github.io/dev/2020/02/11/facial_expression_recognition.html)\n",
        "- [Challenges in Representation Learning: Facial Expression Recognition Challenge](https://www.kaggle.com/c/challenges-in-representation-learning-facial-expression-recognition-challenge/data)\n",
        "- [Best Actor Game](https://apps.apple.com/cn/app/id1498575047)\n",
        "- [Globally Distributed Content Delivery](https://people.cs.umass.edu/~ramesh/Site/PUBLICATIONS_files/DMPPSW02.pdf)\n",
        "- [Gossip Protocol](https://en.wikipedia.org/wiki/Gossip_protocol)\n",
        "- [Early Stopping](https://en.wikipedia.org/wiki/Early_stopping)\n",
        "- [Performance Tradeoffs in Static and Dynamic Load Balancing Strategies](https://ntrs.nasa.gov/archive/nasa/casi.ntrs.nasa.gov/19860014876.pdf)"
      ]
    }
  ]
}